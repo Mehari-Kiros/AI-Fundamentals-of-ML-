{
 "cells": [
  {
   "cell_type": "markdown",
   "id": "8f17dd92",
   "metadata": {},
   "source": [
    "# Hello World"
   ]
  },
  {
   "cell_type": "markdown",
   "id": "38478ce0",
   "metadata": {},
   "source": [
    "One of the typical ways to get started with a programming language is printing a simple message. You can write any message, but it's traditional among coders to start with a \"Hello World,\" so let's try it."
   ]
  },
  {
   "cell_type": "markdown",
   "id": "ad8d4e3a",
   "metadata": {},
   "source": [
    "Let's print our first message using the print function. The print function prints a message to the screen."
   ]
  },
  {
   "cell_type": "code",
   "execution_count": 64,
   "id": "3ba6128c",
   "metadata": {
    "ExecuteTime": {
     "end_time": "2023-07-31T09:13:38.663493800Z",
     "start_time": "2023-07-31T09:13:36.923146800Z"
    }
   },
   "outputs": [
    {
     "name": "stdout",
     "output_type": "stream",
     "text": [
      "Hello World\n"
     ]
    }
   ],
   "source": [
    "print(\"Hello World\")"
   ]
  },
  {
   "cell_type": "markdown",
   "id": "8f1c99f6",
   "metadata": {},
   "source": [
    "Unlike most Python text editors, Jupyter Notebook allows us to print the last object in code cell without specifying the print function."
   ]
  },
  {
   "cell_type": "code",
   "execution_count": 65,
   "id": "80018e1d",
   "metadata": {
    "scrolled": false,
    "ExecuteTime": {
     "end_time": "2023-07-31T09:13:39.628346400Z",
     "start_time": "2023-07-31T09:13:36.957056100Z"
    }
   },
   "outputs": [
    {
     "data": {
      "text/plain": "'Hello World'"
     },
     "execution_count": 65,
     "metadata": {},
     "output_type": "execute_result"
    }
   ],
   "source": [
    "\"Hello World\""
   ]
  },
  {
   "cell_type": "markdown",
   "id": "71060ab1",
   "metadata": {},
   "source": [
    "# Data Types"
   ]
  },
  {
   "cell_type": "markdown",
   "id": "129cb49a",
   "metadata": {},
   "source": [
    "Every value in Python is an object. An object has different data types. Let's see the most common data type in Python."
   ]
  },
  {
   "cell_type": "markdown",
   "id": "130aa203",
   "metadata": {},
   "source": [
    "## Integer and Float"
   ]
  },
  {
   "cell_type": "markdown",
   "id": "b8ecb817",
   "metadata": {},
   "source": [
    "Integer (int): Numbers that can be written without a fractional component."
   ]
  },
  {
   "cell_type": "code",
   "execution_count": 66,
   "id": "246aa088",
   "metadata": {
    "ExecuteTime": {
     "end_time": "2023-07-31T09:13:39.682388900Z",
     "start_time": "2023-07-31T09:13:37.057976400Z"
    }
   },
   "outputs": [
    {
     "data": {
      "text/plain": "int"
     },
     "execution_count": 66,
     "metadata": {},
     "output_type": "execute_result"
    }
   ],
   "source": [
    "# To check the data type, we can use the type function.\n",
    "type(1)"
   ]
  },
  {
   "cell_type": "markdown",
   "id": "5f8ab750",
   "metadata": {},
   "source": [
    "Float (float): Numbers that contain floating decimal points."
   ]
  },
  {
   "cell_type": "code",
   "execution_count": 67,
   "id": "1efdac18",
   "metadata": {
    "scrolled": false,
    "ExecuteTime": {
     "end_time": "2023-07-31T09:13:39.718295200Z",
     "start_time": "2023-07-31T09:13:37.163774300Z"
    }
   },
   "outputs": [
    {
     "data": {
      "text/plain": "float"
     },
     "execution_count": 67,
     "metadata": {},
     "output_type": "execute_result"
    }
   ],
   "source": [
    "type(2.3)"
   ]
  },
  {
   "cell_type": "markdown",
   "id": "71ced1ad",
   "metadata": {},
   "source": [
    "### Math Operators"
   ]
  },
  {
   "cell_type": "markdown",
   "id": "db6b47c2",
   "metadata": {},
   "source": [
    "Just like on Excel, you can perform math operations in Python. Let's see the most common operators used in Python"
   ]
  },
  {
   "cell_type": "markdown",
   "id": "e110146a",
   "metadata": {},
   "source": [
    "- Addition: +\n",
    "- Subtraction: -\n",
    "- Multiplication: *\n",
    "- Division: /\n",
    "- Exponent: **\n",
    "- Remainder: %\n",
    "- Integer division: //"
   ]
  },
  {
   "cell_type": "code",
   "execution_count": 68,
   "id": "68749258",
   "metadata": {
    "ExecuteTime": {
     "end_time": "2023-07-31T09:13:39.748213500Z",
     "start_time": "2023-07-31T09:13:37.283551Z"
    }
   },
   "outputs": [
    {
     "data": {
      "text/plain": "3"
     },
     "execution_count": 68,
     "metadata": {},
     "output_type": "execute_result"
    }
   ],
   "source": [
    "1 + 2"
   ]
  },
  {
   "cell_type": "code",
   "execution_count": 69,
   "id": "744389a2",
   "metadata": {
    "ExecuteTime": {
     "end_time": "2023-07-31T09:13:39.776173Z",
     "start_time": "2023-07-31T09:13:37.418401200Z"
    }
   },
   "outputs": [
    {
     "data": {
      "text/plain": "9"
     },
     "execution_count": 69,
     "metadata": {},
     "output_type": "execute_result"
    }
   ],
   "source": [
    "3 ** 2"
   ]
  },
  {
   "cell_type": "markdown",
   "id": "776ca8d0",
   "metadata": {},
   "source": [
    "## Boolean"
   ]
  },
  {
   "cell_type": "markdown",
   "id": "7fcb4432",
   "metadata": {},
   "source": [
    "Boolean (bool): True/False values"
   ]
  },
  {
   "cell_type": "code",
   "execution_count": 70,
   "id": "ff929aff",
   "metadata": {
    "ExecuteTime": {
     "end_time": "2023-07-31T09:13:39.800188500Z",
     "start_time": "2023-07-31T09:13:37.533746200Z"
    }
   },
   "outputs": [
    {
     "data": {
      "text/plain": "bool"
     },
     "execution_count": 70,
     "metadata": {},
     "output_type": "execute_result"
    }
   ],
   "source": [
    "type(True)"
   ]
  },
  {
   "cell_type": "markdown",
   "id": "3f8fb26b",
   "metadata": {},
   "source": [
    "## String"
   ]
  },
  {
   "cell_type": "markdown",
   "id": "75611804",
   "metadata": {},
   "source": [
    "String (str): A string represents a series of characters. In Python, anything inside quotes (single quotes or double-quotes) is a string."
   ]
  },
  {
   "cell_type": "code",
   "execution_count": 71,
   "id": "c8c4d779",
   "metadata": {
    "scrolled": true,
    "ExecuteTime": {
     "end_time": "2023-07-31T09:13:39.803848900Z",
     "start_time": "2023-07-31T09:13:37.648610800Z"
    }
   },
   "outputs": [
    {
     "data": {
      "text/plain": "str"
     },
     "execution_count": 71,
     "metadata": {},
     "output_type": "execute_result"
    }
   ],
   "source": [
    "type(\"Hello World\")"
   ]
  },
  {
   "cell_type": "markdown",
   "id": "8844ddb6",
   "metadata": {},
   "source": [
    "### String Methods"
   ]
  },
  {
   "cell_type": "markdown",
   "id": "85fb76d5",
   "metadata": {},
   "source": [
    "We can apply different functions to strings as we would do in Excel. However in Python we use methods. A method is a function that \"belongs to\" an object. To call a method we use the \".\" sign after the object . \n",
    "Let's see some string methods to change the case of text."
   ]
  },
  {
   "cell_type": "code",
   "execution_count": 72,
   "id": "0886917d",
   "metadata": {
    "ExecuteTime": {
     "end_time": "2023-07-31T09:13:39.839980800Z",
     "start_time": "2023-07-31T09:13:37.744230Z"
    }
   },
   "outputs": [
    {
     "name": "stdout",
     "output_type": "stream",
     "text": [
      "HELLO WORLD\n",
      "hello world\n",
      "Hello World\n",
      "3\n",
      "hellu wurld\n"
     ]
    }
   ],
   "source": [
    "# change case of text\n",
    "print(\"Hello World\".upper())\n",
    "print(\"Hello World\".lower())\n",
    "print(\"hello world\".title())\n",
    "\n",
    "# count letters\n",
    "print(\"hello world\".count('l'))\n",
    "# replace string letters\n",
    "print(\"hello world\".replace('o', 'u'))"
   ]
  },
  {
   "cell_type": "markdown",
   "id": "a1a59256",
   "metadata": {},
   "source": [
    "There are other data types in Python and we will see them in detail in the following sections."
   ]
  },
  {
   "cell_type": "markdown",
   "id": "7b2ce79d",
   "metadata": {},
   "source": [
    "# Variables"
   ]
  },
  {
   "cell_type": "markdown",
   "id": "1894ec3c",
   "metadata": {},
   "source": [
    "Variables helps us store data values. In Python, we often work with data, so variables are useful to manage this data properly. A variable contains a value, which is the information associated with a variable. To assign a value to a variable, we use the =.\n",
    "\n",
    "\n",
    "Let's create a message that says \"I'm learning Python\" and store it in a variable called message_1."
   ]
  },
  {
   "cell_type": "code",
   "execution_count": 73,
   "id": "2387a2d7",
   "metadata": {
    "ExecuteTime": {
     "end_time": "2023-07-31T09:13:39.866911Z",
     "start_time": "2023-07-31T09:13:37.836360300Z"
    }
   },
   "outputs": [],
   "source": [
    "# message_1 = \"I'm learning Python\"\n",
    "message_1 = \"I'm learning Java\""
   ]
  },
  {
   "cell_type": "markdown",
   "id": "b5a3a8d1",
   "metadata": {},
   "source": [
    "Now, if we want to obtain the message \"I'm learning Python\" we only have to type the variable name"
   ]
  },
  {
   "cell_type": "code",
   "execution_count": 74,
   "id": "ef19a092",
   "metadata": {
    "scrolled": true,
    "ExecuteTime": {
     "end_time": "2023-07-31T09:13:39.873929500Z",
     "start_time": "2023-07-31T09:13:37.941237200Z"
    }
   },
   "outputs": [
    {
     "data": {
      "text/plain": "\"I'm learning Java\""
     },
     "execution_count": 74,
     "metadata": {},
     "output_type": "execute_result"
    }
   ],
   "source": [
    "message_1"
   ]
  },
  {
   "cell_type": "markdown",
   "id": "ed16868d",
   "metadata": {},
   "source": [
    "We can create as many variables as we want. Just make sure to assign different names to new variables.\n",
    "Let's create a new message that says \"and it's fun!\" and store it in a variable called message_2."
   ]
  },
  {
   "cell_type": "code",
   "execution_count": 75,
   "id": "2378573c",
   "metadata": {
    "ExecuteTime": {
     "end_time": "2023-07-31T09:13:39.973422200Z",
     "start_time": "2023-07-31T09:13:38.038633100Z"
    }
   },
   "outputs": [],
   "source": [
    "# message_2 = \"and it's fun!\"\n",
    "message_2 = \"and it's boring!\""
   ]
  },
  {
   "cell_type": "markdown",
   "id": "73531377",
   "metadata": {},
   "source": [
    "## String Concatenation"
   ]
  },
  {
   "cell_type": "markdown",
   "id": "259c52f4",
   "metadata": {},
   "source": [
    "We can put message_1 and message_2 together by using the + operator. This is called string concatenation."
   ]
  },
  {
   "cell_type": "code",
   "execution_count": 76,
   "id": "04eebbf3",
   "metadata": {
    "ExecuteTime": {
     "end_time": "2023-07-31T09:13:40.051832100Z",
     "start_time": "2023-07-31T09:13:38.139405800Z"
    }
   },
   "outputs": [
    {
     "data": {
      "text/plain": "\"I'm learning Javaand it's boring!\""
     },
     "execution_count": 76,
     "metadata": {},
     "output_type": "execute_result"
    }
   ],
   "source": [
    "message_1 + message_2"
   ]
  },
  {
   "cell_type": "markdown",
   "id": "d20e7296",
   "metadata": {},
   "source": [
    "We need to add a blank space \" \"to make the text readable. This time let's also store this new message in a new variable called message"
   ]
  },
  {
   "cell_type": "code",
   "execution_count": 77,
   "id": "ca00184a",
   "metadata": {
    "ExecuteTime": {
     "end_time": "2023-07-31T09:13:40.061805Z",
     "start_time": "2023-07-31T09:13:38.251738200Z"
    }
   },
   "outputs": [
    {
     "data": {
      "text/plain": "\"I'm learning Java and it's boring!\""
     },
     "execution_count": 77,
     "metadata": {},
     "output_type": "execute_result"
    }
   ],
   "source": [
    "message = message_1 + ' ' + message_2\n",
    "message"
   ]
  },
  {
   "cell_type": "markdown",
   "id": "d139b60c",
   "metadata": {},
   "source": [
    "We can also use another option called f-string. Let's have a look"
   ]
  },
  {
   "cell_type": "code",
   "execution_count": 78,
   "id": "3c32e18b",
   "metadata": {
    "ExecuteTime": {
     "end_time": "2023-07-31T09:13:40.080970200Z",
     "start_time": "2023-07-31T09:13:38.379240400Z"
    }
   },
   "outputs": [
    {
     "data": {
      "text/plain": "\"I'm learning Java and it's boring!\""
     },
     "execution_count": 78,
     "metadata": {},
     "output_type": "execute_result"
    }
   ],
   "source": [
    "message = f'{message_1} {message_2}'\n",
    "message"
   ]
  },
  {
   "cell_type": "markdown",
   "id": "9d810210",
   "metadata": {},
   "source": [
    "# List"
   ]
  },
  {
   "cell_type": "markdown",
   "id": "de1e872d",
   "metadata": {},
   "source": [
    "In Python, lists are used to store multiple items in a single variable. Lists are ordered and mutable containers. In Python, we call 'mutable' to objects that can change their values. That is, elements within a list can change their value.\n",
    "\n",
    "To create a list, we have to introduce the elements inside square brackets ([]), separated by commas. Consider the following list named \"countries\" that contains some of the countries with the largest population around the world."
   ]
  },
  {
   "cell_type": "code",
   "execution_count": 79,
   "id": "251fef24",
   "metadata": {
    "ExecuteTime": {
     "end_time": "2023-07-31T09:13:40.086952800Z",
     "start_time": "2023-07-31T09:13:38.486837400Z"
    }
   },
   "outputs": [],
   "source": [
    "countries = ['United States', 'India', 'China', 'Brazil']"
   ]
  },
  {
   "cell_type": "markdown",
   "id": "cfa201f9",
   "metadata": {},
   "source": [
    "Keep in mind that lists can have elements of different types and duplicated elements."
   ]
  },
  {
   "cell_type": "markdown",
   "id": "df084d7c",
   "metadata": {},
   "source": [
    "## Indexing"
   ]
  },
  {
   "cell_type": "markdown",
   "id": "a85e45e2",
   "metadata": {},
   "source": [
    "By indexing we can obtain a list item or element by its position. Each item in a list has an index (position in the list). Python uses zero-based indexing. That is, the first element (\"United States\") has an index 0, the second(\"India\") has index 1, and so on.\n",
    "\n",
    "To access an element by its index we need to use square brackets []. Let's see some examples:"
   ]
  },
  {
   "cell_type": "code",
   "execution_count": 80,
   "id": "89ea8fe8",
   "metadata": {
    "ExecuteTime": {
     "end_time": "2023-07-31T09:13:40.156599900Z",
     "start_time": "2023-07-31T09:13:38.588692500Z"
    }
   },
   "outputs": [
    {
     "name": "stdout",
     "output_type": "stream",
     "text": [
      "United States\n",
      "India\n",
      "China\n",
      "Brazil\n"
     ]
    }
   ],
   "source": [
    "print(countries[0])\n",
    "print(countries[1])\n",
    "print(countries[2])\n",
    "print(countries[3])"
   ]
  },
  {
   "cell_type": "markdown",
   "id": "1dd757b3",
   "metadata": {},
   "source": [
    "There's also negative index that help us get elements starting on the last position of the list, so instead of using indexes from 0 and above, we use indexes from -1 and below.\n",
    "\n",
    "Let's get the last element of the list but now using a negative index."
   ]
  },
  {
   "cell_type": "code",
   "execution_count": 81,
   "id": "2ad7e1ce",
   "metadata": {
    "scrolled": true,
    "ExecuteTime": {
     "end_time": "2023-07-31T09:13:40.157602Z",
     "start_time": "2023-07-31T09:13:38.698043100Z"
    }
   },
   "outputs": [
    {
     "name": "stdout",
     "output_type": "stream",
     "text": [
      "Brazil\n"
     ]
    }
   ],
   "source": [
    "print(countries[-1])"
   ]
  },
  {
   "cell_type": "markdown",
   "id": "cb5d324b",
   "metadata": {},
   "source": [
    "## Slicing"
   ]
  },
  {
   "cell_type": "markdown",
   "id": "8bb438f0",
   "metadata": {},
   "source": [
    "Slicing means accessing parts of a list. A slice is a subset of list elements. Slice notation takes the form of:"
   ]
  },
  {
   "cell_type": "markdown",
   "id": "8feed189",
   "metadata": {},
   "source": [
    "list_name[start:stop]"
   ]
  },
  {
   "cell_type": "markdown",
   "id": "14ff0d0e",
   "metadata": {},
   "source": [
    "where \"start\" represents the index of the first element, and stop represents the element to stop at (without including it in the slice). \n",
    "\n",
    "Let's see some examples:"
   ]
  },
  {
   "cell_type": "code",
   "execution_count": 82,
   "id": "600586f9",
   "metadata": {
    "ExecuteTime": {
     "end_time": "2023-07-31T09:13:40.158595Z",
     "start_time": "2023-07-31T09:13:38.857694800Z"
    }
   },
   "outputs": [
    {
     "name": "stdout",
     "output_type": "stream",
     "text": [
      "['United States', 'India', 'China']\n",
      "['India', 'China', 'Brazil']\n",
      "['United States', 'India']\n"
     ]
    }
   ],
   "source": [
    "print(countries[0:3])\n",
    "print(countries[1:])\n",
    "print(countries[:2])"
   ]
  },
  {
   "cell_type": "markdown",
   "id": "074059c3",
   "metadata": {},
   "source": [
    "## List Operations and Methods"
   ]
  },
  {
   "cell_type": "markdown",
   "id": "b6148234",
   "metadata": {},
   "source": [
    "There are a lot of things you can do with lists. You can add new elements, remove any element, update values, and so on. In this. section, we will see the most common list operation and methods"
   ]
  },
  {
   "cell_type": "markdown",
   "id": "849930cb",
   "metadata": {},
   "source": [
    "### Adding elements to a list"
   ]
  },
  {
   "cell_type": "markdown",
   "id": "623ad7ef",
   "metadata": {},
   "source": [
    "There are different methods that helps us add a new element to a list. Let's have a look."
   ]
  },
  {
   "cell_type": "code",
   "execution_count": 83,
   "id": "767057d7",
   "metadata": {
    "ExecuteTime": {
     "end_time": "2023-07-31T09:13:40.159592700Z",
     "start_time": "2023-07-31T09:13:38.992668900Z"
    }
   },
   "outputs": [
    {
     "data": {
      "text/plain": "['United States', 'India', 'China', 'Brazil', 'Canada']"
     },
     "execution_count": 83,
     "metadata": {},
     "output_type": "execute_result"
    }
   ],
   "source": [
    "# append: Adds a new element at the end of a list\n",
    "countries = ['United States', 'India', 'China', 'Brazil']\n",
    "countries.append('Canada')\n",
    "countries"
   ]
  },
  {
   "cell_type": "code",
   "execution_count": 84,
   "id": "766be261",
   "metadata": {
    "ExecuteTime": {
     "end_time": "2023-07-31T09:13:40.164435600Z",
     "start_time": "2023-07-31T09:13:39.124285600Z"
    }
   },
   "outputs": [
    {
     "data": {
      "text/plain": "['Canada', 'United States', 'India', 'China', 'Brazil']"
     },
     "execution_count": 84,
     "metadata": {},
     "output_type": "execute_result"
    }
   ],
   "source": [
    "# insert: Adds a new element at a specific position\n",
    "countries = ['United States', 'India', 'China', 'Brazil']\n",
    "countries.insert(0,'Canada')\n",
    "countries"
   ]
  },
  {
   "cell_type": "code",
   "execution_count": 85,
   "id": "165f8129",
   "metadata": {
    "scrolled": true,
    "ExecuteTime": {
     "end_time": "2023-07-31T09:13:40.164435600Z",
     "start_time": "2023-07-31T09:13:39.260434300Z"
    }
   },
   "outputs": [
    {
     "data": {
      "text/plain": "['Canada',\n 'United States',\n 'India',\n 'China',\n 'Brazil',\n 'UK',\n 'Germany',\n 'Austria']"
     },
     "execution_count": 85,
     "metadata": {},
     "output_type": "execute_result"
    }
   ],
   "source": [
    "# joining lists using the + operators\n",
    "countries_2 = ['UK', 'Germany', 'Austria']\n",
    "countries + countries_2"
   ]
  },
  {
   "cell_type": "markdown",
   "id": "49c0bfee",
   "metadata": {},
   "source": [
    "We can put the list countries and countries_2 inside another list, which is called nested list."
   ]
  },
  {
   "cell_type": "code",
   "execution_count": 86,
   "id": "0658f115",
   "metadata": {
    "ExecuteTime": {
     "end_time": "2023-07-31T09:13:40.164435600Z",
     "start_time": "2023-07-31T09:13:39.374871700Z"
    }
   },
   "outputs": [
    {
     "data": {
      "text/plain": "[['Canada', 'United States', 'India', 'China', 'Brazil'],\n ['UK', 'Germany', 'Austria']]"
     },
     "execution_count": 86,
     "metadata": {},
     "output_type": "execute_result"
    }
   ],
   "source": [
    "# nested list\n",
    "nested_list = [countries, countries_2]\n",
    "nested_list"
   ]
  },
  {
   "cell_type": "markdown",
   "id": "b4db329b",
   "metadata": {},
   "source": [
    "### Remove an element"
   ]
  },
  {
   "cell_type": "markdown",
   "id": "94056285",
   "metadata": {},
   "source": [
    "There are different methods that helps us remove an element from a list."
   ]
  },
  {
   "cell_type": "code",
   "execution_count": 87,
   "id": "194d6e8e",
   "metadata": {
    "ExecuteTime": {
     "end_time": "2023-07-31T09:13:40.918709100Z",
     "start_time": "2023-07-31T09:13:39.488719400Z"
    }
   },
   "outputs": [
    {
     "name": "stdout",
     "output_type": "stream",
     "text": [
      "['United States', 'India', 'China', 'Brazil']\n",
      "['India', 'China', 'Brazil']\n",
      "['China', 'Brazil']\n",
      "['Brazil']\n"
     ]
    }
   ],
   "source": [
    "countries = ['United States', 'India',\n",
    "             'China', 'Brazil']\n",
    "print(countries)\n",
    "\n",
    "# .remove() Removes the first matching value\n",
    "countries.remove('United States')\n",
    "print(countries)\n",
    "# .pop() Removes an item at an specific index and then returns it.\n",
    "countries.pop(0)\n",
    "print(countries)\n",
    "# del: removes an item at an specific index\n",
    "del countries[0]\n",
    "print(countries)"
   ]
  },
  {
   "cell_type": "markdown",
   "id": "2e6cc6df",
   "metadata": {},
   "source": [
    "### Sorting a list"
   ]
  },
  {
   "cell_type": "markdown",
   "id": "150aaadc",
   "metadata": {},
   "source": [
    "We can easily sort a list using the .sort() method. Let's create a new list called numbers and then sort it from the smallest to largest number."
   ]
  },
  {
   "cell_type": "code",
   "execution_count": 88,
   "id": "94bf4e78",
   "metadata": {
    "ExecuteTime": {
     "end_time": "2023-07-31T09:13:40.922697700Z",
     "start_time": "2023-07-31T09:13:39.685385200Z"
    }
   },
   "outputs": [
    {
     "data": {
      "text/plain": "[1, 2, 3, 4, 7, 10]"
     },
     "execution_count": 88,
     "metadata": {},
     "output_type": "execute_result"
    }
   ],
   "source": [
    "numbers = [4, 3, 10, 7, 1, 2]\n",
    "numbers.sort()\n",
    "numbers"
   ]
  },
  {
   "cell_type": "markdown",
   "id": "83914076",
   "metadata": {},
   "source": [
    "We can add the reverse argument to the .sort() method to control the order. If we want it to be descendent we set reverse=True"
   ]
  },
  {
   "cell_type": "code",
   "execution_count": 89,
   "id": "78b1a894",
   "metadata": {
    "scrolled": true,
    "ExecuteTime": {
     "end_time": "2023-07-31T09:13:40.922697700Z",
     "start_time": "2023-07-31T09:13:39.830634700Z"
    }
   },
   "outputs": [
    {
     "data": {
      "text/plain": "[10, 7, 4, 3, 2, 1]"
     },
     "execution_count": 89,
     "metadata": {},
     "output_type": "execute_result"
    }
   ],
   "source": [
    "numbers = [4, 3, 10, 7, 1, 2]\n",
    "numbers.sort(reverse=True)\n",
    "numbers"
   ]
  },
  {
   "cell_type": "markdown",
   "id": "0a66b894",
   "metadata": {},
   "source": [
    "### Update value on a list"
   ]
  },
  {
   "cell_type": "markdown",
   "id": "d5046943",
   "metadata": {},
   "source": [
    "To update a value on a list we use indexing to locate the element we want to update and then set it to a new value using the = sign."
   ]
  },
  {
   "cell_type": "code",
   "execution_count": 90,
   "id": "623701b9",
   "metadata": {
    "ExecuteTime": {
     "end_time": "2023-07-31T09:13:40.923696300Z",
     "start_time": "2023-07-31T09:13:39.937638700Z"
    }
   },
   "outputs": [
    {
     "data": {
      "text/plain": "[1000, 7, 4, 3, 2, 500]"
     },
     "execution_count": 90,
     "metadata": {},
     "output_type": "execute_result"
    }
   ],
   "source": [
    "numbers[0] = 1000\n",
    "numbers\n",
    "numbers[-1] = 500\n",
    "numbers"
   ]
  },
  {
   "cell_type": "markdown",
   "id": "00b6be3c",
   "metadata": {},
   "source": [
    "### Copying a list"
   ]
  },
  {
   "cell_type": "markdown",
   "id": "65c583f0",
   "metadata": {},
   "source": [
    "Whenever we need to make a copy of an existing list, we can use the following options:"
   ]
  },
  {
   "cell_type": "code",
   "execution_count": 91,
   "id": "f1f266da",
   "metadata": {
    "ExecuteTime": {
     "end_time": "2023-07-31T09:13:40.923696300Z",
     "start_time": "2023-07-31T09:13:40.050834900Z"
    }
   },
   "outputs": [
    {
     "name": "stdout",
     "output_type": "stream",
     "text": [
      "['Brazil']\n",
      "['Brazil']\n"
     ]
    }
   ],
   "source": [
    "new_list = countries[:]\n",
    "print(new_list)\n",
    "new_list_2 = countries.copy()\n",
    "print(new_list_2)"
   ]
  },
  {
   "cell_type": "markdown",
   "id": "310e6596",
   "metadata": {},
   "source": [
    "The [:] comes from the slicing technique we learned before. In this case, we didn't set neither a start nor a stop value, so the entire list is selected. On the other hand, the .copy() method explicitly makes a copy of a list."
   ]
  },
  {
   "cell_type": "markdown",
   "id": "662a480f",
   "metadata": {},
   "source": [
    "# Dictionary"
   ]
  },
  {
   "cell_type": "markdown",
   "id": "36fdf1ec",
   "metadata": {},
   "source": [
    "In Python, dictionaries help us store data in key:value pairs (one pair is called an item). Like lists, dictionaries are mutable, but unlike lists, dictionaries are accessed via keys and duplicate keys are not allowed."
   ]
  },
  {
   "cell_type": "code",
   "execution_count": 92,
   "id": "8a4c559a",
   "metadata": {
    "ExecuteTime": {
     "end_time": "2023-07-31T09:13:40.971911400Z",
     "start_time": "2023-07-31T09:13:40.158595Z"
    }
   },
   "outputs": [],
   "source": [
    "my_data = {'name':'Frank', 'age':26}"
   ]
  },
  {
   "cell_type": "code",
   "execution_count": 93,
   "id": "c42a02dd",
   "metadata": {
    "ExecuteTime": {
     "end_time": "2023-07-31T09:13:40.985875700Z",
     "start_time": "2023-07-31T09:13:40.281517400Z"
    }
   },
   "outputs": [
    {
     "data": {
      "text/plain": "'Frank'"
     },
     "execution_count": 93,
     "metadata": {},
     "output_type": "execute_result"
    }
   ],
   "source": [
    "my_data['name']"
   ]
  },
  {
   "cell_type": "code",
   "execution_count": 94,
   "id": "bcc54797",
   "metadata": {
    "ExecuteTime": {
     "end_time": "2023-07-31T09:13:40.986872500Z",
     "start_time": "2023-07-31T09:13:40.398607500Z"
    }
   },
   "outputs": [
    {
     "data": {
      "text/plain": "dict_keys(['name', 'age'])"
     },
     "execution_count": 94,
     "metadata": {},
     "output_type": "execute_result"
    }
   ],
   "source": [
    "my_data.keys()"
   ]
  },
  {
   "cell_type": "code",
   "execution_count": 95,
   "id": "dfe709ee",
   "metadata": {
    "ExecuteTime": {
     "end_time": "2023-07-31T09:13:40.988866800Z",
     "start_time": "2023-07-31T09:13:40.525845700Z"
    }
   },
   "outputs": [
    {
     "data": {
      "text/plain": "dict_values(['Frank', 26])"
     },
     "execution_count": 95,
     "metadata": {},
     "output_type": "execute_result"
    }
   ],
   "source": [
    "my_data.values()"
   ]
  },
  {
   "cell_type": "code",
   "execution_count": 96,
   "id": "7f7ce46d",
   "metadata": {
    "ExecuteTime": {
     "end_time": "2023-07-31T09:13:40.991858500Z",
     "start_time": "2023-07-31T09:13:40.650819600Z"
    }
   },
   "outputs": [
    {
     "data": {
      "text/plain": "dict_items([('name', 'Frank'), ('age', 26)])"
     },
     "execution_count": 96,
     "metadata": {},
     "output_type": "execute_result"
    }
   ],
   "source": [
    "my_data.items()"
   ]
  },
  {
   "cell_type": "markdown",
   "id": "8ff58f00",
   "metadata": {},
   "source": [
    "## Add/update elements"
   ]
  },
  {
   "cell_type": "markdown",
   "id": "8245e7df",
   "metadata": {},
   "source": [
    "Similar to lists, we can add and update values in a dictionary. Let's start by adding a new pair key-value that represents my height."
   ]
  },
  {
   "cell_type": "code",
   "execution_count": 97,
   "id": "97ff4683",
   "metadata": {
    "ExecuteTime": {
     "end_time": "2023-07-31T09:13:40.992869400Z",
     "start_time": "2023-07-31T09:13:40.771771300Z"
    }
   },
   "outputs": [],
   "source": [
    "my_data['height']=1.7"
   ]
  },
  {
   "cell_type": "code",
   "execution_count": 98,
   "id": "924660a8",
   "metadata": {
    "ExecuteTime": {
     "end_time": "2023-07-31T09:13:41.288713Z",
     "start_time": "2023-07-31T09:13:40.880807Z"
    }
   },
   "outputs": [
    {
     "data": {
      "text/plain": "{'name': 'Frank', 'age': 26, 'height': 1.7}"
     },
     "execution_count": 98,
     "metadata": {},
     "output_type": "execute_result"
    }
   ],
   "source": [
    "my_data"
   ]
  },
  {
   "cell_type": "code",
   "execution_count": 99,
   "id": "1ca690d9",
   "metadata": {
    "ExecuteTime": {
     "end_time": "2023-07-31T09:13:41.328605500Z",
     "start_time": "2023-07-31T09:13:41.023258700Z"
    }
   },
   "outputs": [],
   "source": [
    "my_data.update({'height':1.8,'languages':['English', 'Spanish']})"
   ]
  },
  {
   "cell_type": "code",
   "execution_count": 100,
   "id": "7e1be28a",
   "metadata": {
    "ExecuteTime": {
     "end_time": "2023-07-31T09:13:41.359555800Z",
     "start_time": "2023-07-31T09:13:41.145773500Z"
    }
   },
   "outputs": [
    {
     "data": {
      "text/plain": "{'name': 'Frank',\n 'age': 26,\n 'height': 1.8,\n 'languages': ['English', 'Spanish']}"
     },
     "execution_count": 100,
     "metadata": {},
     "output_type": "execute_result"
    }
   ],
   "source": [
    "my_data"
   ]
  },
  {
   "cell_type": "markdown",
   "id": "801a6ad4",
   "metadata": {},
   "source": [
    "## Copy a dictionary"
   ]
  },
  {
   "cell_type": "markdown",
   "id": "b7a25561",
   "metadata": {},
   "source": [
    "We can use the .copy method to make a copy of a dictionary."
   ]
  },
  {
   "cell_type": "code",
   "execution_count": 101,
   "id": "dff15e40",
   "metadata": {
    "scrolled": true,
    "ExecuteTime": {
     "end_time": "2023-07-31T09:13:41.453147800Z",
     "start_time": "2023-07-31T09:13:41.267728500Z"
    }
   },
   "outputs": [
    {
     "data": {
      "text/plain": "{'name': 'Frank',\n 'age': 26,\n 'height': 1.8,\n 'languages': ['English', 'Spanish']}"
     },
     "execution_count": 101,
     "metadata": {},
     "output_type": "execute_result"
    }
   ],
   "source": [
    "new_dict = my_data.copy()\n",
    "new_dict"
   ]
  },
  {
   "cell_type": "markdown",
   "id": "1c9a6160",
   "metadata": {},
   "source": [
    "## Remove elements"
   ]
  },
  {
   "cell_type": "code",
   "execution_count": 102,
   "id": "9190296c",
   "metadata": {
    "ExecuteTime": {
     "end_time": "2023-07-31T09:13:41.591097700Z",
     "start_time": "2023-07-31T09:13:41.366538900Z"
    }
   },
   "outputs": [
    {
     "data": {
      "text/plain": "1.8"
     },
     "execution_count": 102,
     "metadata": {},
     "output_type": "execute_result"
    }
   ],
   "source": [
    "my_data.pop('height')"
   ]
  },
  {
   "cell_type": "code",
   "execution_count": 103,
   "id": "1be32e98",
   "metadata": {
    "ExecuteTime": {
     "end_time": "2023-07-31T09:13:41.715679400Z",
     "start_time": "2023-07-31T09:13:41.559164100Z"
    }
   },
   "outputs": [
    {
     "data": {
      "text/plain": "{'name': 'Frank', 'age': 26, 'languages': ['English', 'Spanish']}"
     },
     "execution_count": 103,
     "metadata": {},
     "output_type": "execute_result"
    }
   ],
   "source": [
    "my_data"
   ]
  },
  {
   "cell_type": "code",
   "execution_count": 104,
   "id": "e3441838",
   "metadata": {
    "ExecuteTime": {
     "end_time": "2023-07-31T09:13:41.861023200Z",
     "start_time": "2023-07-31T09:13:41.718678Z"
    }
   },
   "outputs": [],
   "source": [
    "del my_data['languages'] "
   ]
  },
  {
   "cell_type": "code",
   "execution_count": 105,
   "id": "0cb201d5",
   "metadata": {
    "ExecuteTime": {
     "end_time": "2023-07-31T09:13:41.984957Z",
     "start_time": "2023-07-31T09:13:41.861833900Z"
    }
   },
   "outputs": [
    {
     "data": {
      "text/plain": "{'name': 'Frank', 'age': 26}"
     },
     "execution_count": 105,
     "metadata": {},
     "output_type": "execute_result"
    }
   ],
   "source": [
    "my_data"
   ]
  },
  {
   "cell_type": "code",
   "execution_count": 106,
   "id": "a25f4452",
   "metadata": {
    "ExecuteTime": {
     "end_time": "2023-07-31T09:13:42.189378500Z",
     "start_time": "2023-07-31T09:13:41.958654900Z"
    }
   },
   "outputs": [],
   "source": [
    "my_data.clear()"
   ]
  },
  {
   "cell_type": "code",
   "execution_count": 107,
   "id": "5dff8e48",
   "metadata": {
    "ExecuteTime": {
     "end_time": "2023-07-31T09:13:42.386101800Z",
     "start_time": "2023-07-31T09:13:42.071690100Z"
    }
   },
   "outputs": [
    {
     "data": {
      "text/plain": "{}"
     },
     "execution_count": 107,
     "metadata": {},
     "output_type": "execute_result"
    }
   ],
   "source": [
    "my_data"
   ]
  },
  {
   "cell_type": "markdown",
   "id": "03bba7ea",
   "metadata": {},
   "source": [
    "# If Statement"
   ]
  },
  {
   "cell_type": "markdown",
   "id": "f8290902",
   "metadata": {},
   "source": [
    "The if statement is one of the most common statements used in Python. It's a conditional statement used to decide whether a statement (or block of statements) will be executed."
   ]
  },
  {
   "cell_type": "code",
   "execution_count": 108,
   "id": "7e07eb6c",
   "metadata": {
    "ExecuteTime": {
     "end_time": "2023-07-31T09:13:42.388097100Z",
     "start_time": "2023-07-31T09:13:42.286922200Z"
    }
   },
   "outputs": [
    {
     "name": "stdout",
     "output_type": "stream",
     "text": [
      "You're an adult!\n"
     ]
    }
   ],
   "source": [
    "age = 18\n",
    "\n",
    "if age>=18:\n",
    "    print(\"You're an adult!\")\n",
    "elif age>=13:\n",
    "    print(\"You're a teenager!\")\n",
    "else:\n",
    "    print(\"You're a kid\")"
   ]
  },
  {
   "cell_type": "markdown",
   "id": "afc2ceca",
   "metadata": {},
   "source": [
    "We can use the if statement with  in keyword to verify if an element is in a list."
   ]
  },
  {
   "cell_type": "code",
   "execution_count": 109,
   "id": "8abc9189",
   "metadata": {
    "ExecuteTime": {
     "end_time": "2023-07-31T09:13:42.508513900Z",
     "start_time": "2023-07-31T09:13:42.388097100Z"
    }
   },
   "outputs": [
    {
     "name": "stdout",
     "output_type": "stream",
     "text": [
      "Country is in list\n"
     ]
    }
   ],
   "source": [
    "countries = ['United States', 'India',\n",
    "             'China', 'Brazil']\n",
    "if 'China' in countries:\n",
    "    print(\"Country is in list\")\n",
    "else:\n",
    "    print(\"Not in list\")"
   ]
  },
  {
   "cell_type": "markdown",
   "id": "352f76b1",
   "metadata": {},
   "source": [
    "<b> Operators <b>"
   ]
  },
  {
   "cell_type": "markdown",
   "id": "dbba149b",
   "metadata": {},
   "source": [
    "Comparisson Operators\n",
    "- Equal to: == \n",
    "- Different: !=\n",
    "- Greater than: >\n",
    "- Less than: <\n",
    "- Greater than or equal to: >=\n",
    "- Less than or equal to: <=\n",
    "\n",
    "Boolean Operators\n",
    "- and\n",
    "- or\n",
    "- not"
   ]
  },
  {
   "cell_type": "markdown",
   "id": "76ea7140",
   "metadata": {},
   "source": [
    "# For Loop"
   ]
  },
  {
   "cell_type": "markdown",
   "id": "c283ecef",
   "metadata": {},
   "source": [
    "The for loop is a frequently used loop in Python. It allows us to loop through an iterable object (e.g., list, dictionaries) and perform the same action to each element."
   ]
  },
  {
   "cell_type": "code",
   "execution_count": 110,
   "id": "03ee1dc4",
   "metadata": {
    "ExecuteTime": {
     "end_time": "2023-07-31T09:13:42.626030600Z",
     "start_time": "2023-07-31T09:13:42.511506200Z"
    }
   },
   "outputs": [
    {
     "name": "stdout",
     "output_type": "stream",
     "text": [
      "United States\n",
      "India\n",
      "China\n",
      "Brazil\n"
     ]
    }
   ],
   "source": [
    "for country in countries:\n",
    "    print(country)"
   ]
  },
  {
   "cell_type": "code",
   "execution_count": 111,
   "id": "a7f1192d",
   "metadata": {
    "ExecuteTime": {
     "end_time": "2023-07-31T09:13:42.726259500Z",
     "start_time": "2023-07-31T09:13:42.626030600Z"
    }
   },
   "outputs": [
    {
     "name": "stdout",
     "output_type": "stream",
     "text": [
      "United States\n"
     ]
    }
   ],
   "source": [
    "for country in countries:\n",
    "    if country == \"United States\":\n",
    "        print(country)"
   ]
  },
  {
   "cell_type": "markdown",
   "id": "3184c3cc",
   "metadata": {},
   "source": [
    "## Enumerating in a for loop"
   ]
  },
  {
   "cell_type": "markdown",
   "id": "b611aabf",
   "metadata": {},
   "source": [
    "Sometimes we need to enumerate elements in a loop. We can do this with the for loop."
   ]
  },
  {
   "cell_type": "code",
   "execution_count": 112,
   "id": "8f21269c",
   "metadata": {
    "scrolled": true,
    "ExecuteTime": {
     "end_time": "2023-07-31T09:13:43.237169400Z",
     "start_time": "2023-07-31T09:13:42.721272500Z"
    }
   },
   "outputs": [
    {
     "name": "stdout",
     "output_type": "stream",
     "text": [
      "0\n",
      "United States\n",
      "1\n",
      "India\n",
      "2\n",
      "China\n",
      "3\n",
      "Brazil\n"
     ]
    }
   ],
   "source": [
    "for i, country in enumerate(countries):\n",
    "    print(i)\n",
    "    print(country)"
   ]
  },
  {
   "cell_type": "markdown",
   "id": "39155bb7",
   "metadata": {},
   "source": [
    "## Looping through dictionary elements"
   ]
  },
  {
   "cell_type": "markdown",
   "id": "48784761",
   "metadata": {},
   "source": [
    "We can obtain the key and item separately while looping through a dictionary. We only need to use the .items() method."
   ]
  },
  {
   "cell_type": "code",
   "execution_count": 113,
   "id": "50fad343",
   "metadata": {
    "ExecuteTime": {
     "end_time": "2023-07-31T09:13:43.379739Z",
     "start_time": "2023-07-31T09:13:43.237169400Z"
    }
   },
   "outputs": [],
   "source": [
    "for key, value in my_data.items():\n",
    "    print(key)\n",
    "    print(value)"
   ]
  },
  {
   "cell_type": "markdown",
   "id": "1965e294",
   "metadata": {},
   "source": [
    "# Functions"
   ]
  },
  {
   "cell_type": "markdown",
   "id": "42a4f1b6",
   "metadata": {},
   "source": [
    "## Built-In Functions"
   ]
  },
  {
   "cell_type": "markdown",
   "id": "600f4369",
   "metadata": {},
   "source": [
    "Python has lots of built-in functions that can help us perform a specific task. Let's have a look at the most common of them."
   ]
  },
  {
   "cell_type": "markdown",
   "id": "cf13f207",
   "metadata": {},
   "source": [
    "- range()\n",
    "- len()\n",
    "- max()\n",
    "- min()\n",
    "- round()\n",
    "- type()"
   ]
  },
  {
   "cell_type": "markdown",
   "id": "192ed138",
   "metadata": {},
   "source": [
    "## How to Create a Function"
   ]
  },
  {
   "cell_type": "markdown",
   "id": "c6bde7f6",
   "metadata": {},
   "source": [
    "We can also create our own functions. Let's create a function that sums two values a and b"
   ]
  },
  {
   "cell_type": "code",
   "execution_count": 114,
   "id": "3028933b",
   "metadata": {
    "ExecuteTime": {
     "end_time": "2023-07-31T09:13:43.588117100Z",
     "start_time": "2023-07-31T09:13:43.354608100Z"
    }
   },
   "outputs": [],
   "source": [
    "def sum_values(a,b):\n",
    "    x = a+b\n",
    "    return x"
   ]
  },
  {
   "cell_type": "code",
   "execution_count": 120,
   "id": "435524fa",
   "metadata": {
    "ExecuteTime": {
     "end_time": "2023-07-31T09:18:52.822786800Z",
     "start_time": "2023-07-31T09:18:52.762141800Z"
    }
   },
   "outputs": [
    {
     "data": {
      "text/plain": "10"
     },
     "execution_count": 120,
     "metadata": {},
     "output_type": "execute_result"
    }
   ],
   "source": [
    "sum_values(2,8)"
   ]
  },
  {
   "cell_type": "markdown",
   "id": "802a4ce1",
   "metadata": {},
   "source": [
    "# Modules"
   ]
  },
  {
   "cell_type": "markdown",
   "id": "57bf7dfa",
   "metadata": {},
   "source": [
    "A module is a file consisting of Python code. A module can contain functions, classes, variables and also runnable code."
   ]
  },
  {
   "cell_type": "markdown",
   "id": "a0a8ee08",
   "metadata": {},
   "source": [
    "We can get access to a Python module with the \"import\" statement"
   ]
  },
  {
   "cell_type": "markdown",
   "id": "1e8cc9aa",
   "metadata": {},
   "source": [
    "## OS Module"
   ]
  },
  {
   "cell_type": "markdown",
   "id": "1845a893",
   "metadata": {},
   "source": [
    "The OS module comes with Python. It provides functions for interacting with the operating system"
   ]
  },
  {
   "cell_type": "code",
   "execution_count": 116,
   "id": "0bf068fb",
   "metadata": {
    "ExecuteTime": {
     "end_time": "2023-07-31T09:13:44.059372400Z",
     "start_time": "2023-07-31T09:13:43.705473900Z"
    }
   },
   "outputs": [],
   "source": [
    "import os"
   ]
  },
  {
   "cell_type": "code",
   "execution_count": 117,
   "id": "79e55d3c",
   "metadata": {
    "scrolled": true,
    "ExecuteTime": {
     "end_time": "2023-07-31T09:13:44.108311800Z",
     "start_time": "2023-07-31T09:13:43.888863200Z"
    }
   },
   "outputs": [
    {
     "data": {
      "text/plain": "'C:\\\\Users\\\\Ashe\\\\PycharmProjects\\\\pythonProject1\\\\1.Python Crash Course'"
     },
     "execution_count": 117,
     "metadata": {},
     "output_type": "execute_result"
    }
   ],
   "source": [
    "os.getcwd()"
   ]
  },
  {
   "cell_type": "code",
   "execution_count": 118,
   "id": "ecb0e105",
   "metadata": {
    "ExecuteTime": {
     "end_time": "2023-07-31T09:13:44.109309200Z",
     "start_time": "2023-07-31T09:13:43.987645Z"
    }
   },
   "outputs": [
    {
     "data": {
      "text/plain": "['.ipynb_checkpoints', 'New Folder', 'Python Crash Course.ipynb']"
     },
     "execution_count": 118,
     "metadata": {},
     "output_type": "execute_result"
    }
   ],
   "source": [
    "os.listdir()"
   ]
  },
  {
   "cell_type": "code",
   "execution_count": 121,
   "id": "d9b01f95",
   "metadata": {
    "ExecuteTime": {
     "end_time": "2023-07-31T09:20:29.533055Z",
     "start_time": "2023-07-31T09:20:29.511261200Z"
    }
   },
   "outputs": [],
   "source": [
    "os.makedirs('New Folder')"
   ]
  },
  {
   "cell_type": "code",
   "execution_count": 122,
   "id": "89a17f26",
   "metadata": {
    "ExecuteTime": {
     "end_time": "2023-07-31T09:20:46.370979300Z",
     "start_time": "2023-07-31T09:20:46.267292500Z"
    }
   },
   "outputs": [
    {
     "data": {
      "text/plain": "['.ipynb_checkpoints', 'New Folder', 'Python Crash Course.ipynb']"
     },
     "execution_count": 122,
     "metadata": {},
     "output_type": "execute_result"
    }
   ],
   "source": [
    "os.listdir()"
   ]
  },
  {
   "cell_type": "code",
   "execution_count": null,
   "outputs": [],
   "source": [],
   "metadata": {
    "collapsed": false
   }
  }
 ],
 "metadata": {
  "kernelspec": {
   "display_name": "Python 3 (ipykernel)",
   "language": "python",
   "name": "python3"
  },
  "language_info": {
   "codemirror_mode": {
    "name": "ipython",
    "version": 3
   },
   "file_extension": ".py",
   "mimetype": "text/x-python",
   "name": "python",
   "nbconvert_exporter": "python",
   "pygments_lexer": "ipython3",
   "version": "3.10.9"
  },
  "toc": {
   "base_numbering": 1,
   "nav_menu": {},
   "number_sections": true,
   "sideBar": true,
   "skip_h1_title": false,
   "title_cell": "Table of Contents",
   "title_sidebar": "Contents",
   "toc_cell": false,
   "toc_position": {},
   "toc_section_display": true,
   "toc_window_display": false
  }
 },
 "nbformat": 4,
 "nbformat_minor": 5
}
